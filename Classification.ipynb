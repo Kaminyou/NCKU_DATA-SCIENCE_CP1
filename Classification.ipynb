{
 "cells": [
  {
   "cell_type": "code",
   "execution_count": 7,
   "metadata": {},
   "outputs": [],
   "source": [
    "import pandas as pd\n",
    "import numpy as np\n",
    "from sklearn import preprocessing\n",
    "train_X=pd.read_pickle('train_X_pd.pkl')\n",
    "train_Y=pd.read_pickle('train_Y_pd.pkl')\n",
    "test_Idx=pd.read_pickle('test_Idx_pd.pkl')\n",
    "test_X=pd.read_pickle('test_X_pd.pkl')\n",
    "train_Y=train_Y['action_type']"
   ]
  },
  {
   "cell_type": "code",
   "execution_count": 8,
   "metadata": {},
   "outputs": [],
   "source": [
    "le = preprocessing.LabelEncoder()\n",
    "le.fit(train_Y)\n",
    "train_Y=pd.Series(le.transform(train_Y))"
   ]
  },
  {
   "cell_type": "code",
   "execution_count": 24,
   "metadata": {},
   "outputs": [
    {
     "data": {
      "text/plain": [
       "(array([], dtype=int64), array([], dtype=int64))"
      ]
     },
     "execution_count": 24,
     "metadata": {},
     "output_type": "execute_result"
    }
   ],
   "source": [
    "np.where(submission.isnull())"
   ]
  },
  {
   "cell_type": "markdown",
   "metadata": {},
   "source": [
    "|No.|max_depth|n_estimators|learning_rate|valid accuracy|test accuracy|是否剔除次數過小的樣本|\n",
    "|:-:|:-------:|:----------:|:-----------:|:------------:|:-----------:|:------------------:|\n",
    "|  0|        3|         300|         0.05|        69.87%|       0.7090|                  no|\n",
    "|  1|        3|         500|         0.05|        69.93%|       0.7057|                  no|\n",
    "| 17|        3|         100|         0.05|        70.01%|       0.7093|                 yes|\n",
    "| 18|        3|         100|         0.05|        70.03%|       0.7111|                  no|\n",
    "| 22|        3|         150|         0.05|        69.93%|       0.7116|                  no|\n",
    "| 23|        3|         200|         0.05|        69.89%|       0.7121|                  no|\n",
    "| 24|        3|         250|         0.05|        69.93%|       0.7103|                  no|\n",
    "|   |        3|         200|         0.05|              |       0.7199|                  no|\n",
    "|   |        3|         150|         0.05|              |       0.7208|                  no|\n",
    "|   |        3|         100|         0.05|              |       0.7189|                  no|\n",
    "|   |        3|         180|         0.05|              |       0.7202|                  no|\n",
    "|   |        3|         160|         0.05|        70.20%|       0.7208|                  no|\n",
    "|   |        4|         160|         0.05|        70.32%|       0.7213|                  no|\n",
    "|   |        5|         160|         0.05|        70.70%|       0.7184|                  no|"
   ]
  },
  {
   "cell_type": "code",
   "execution_count": 9,
   "metadata": {},
   "outputs": [
    {
     "name": "stdout",
     "output_type": "stream",
     "text": [
      "Accuracy: 70.32%\n"
     ]
    }
   ],
   "source": [
    "import xgboost as xgb\n",
    "from sklearn.model_selection import train_test_split\n",
    "from sklearn.metrics import accuracy_score\n",
    "from sklearn.preprocessing import StandardScaler\n",
    "from sklearn.pipeline import Pipeline\n",
    "\n",
    "X_train, X_valid, y_train, y_valid = train_test_split(train_X,train_Y,test_size=0.20,random_state=7)\n",
    "scaler = StandardScaler()\n",
    "gbm = xgb.XGBClassifier(max_depth=4, n_estimators=160, learning_rate=0.05)\n",
    "clf = Pipeline([('scaler', scaler), ('gbm', gbm)])\n",
    "clf.fit(X_train, y_train)\n",
    "y_valid_pred = clf.predict(X_valid)\n",
    "accuracy = accuracy_score(y_valid, y_valid_pred)\n",
    "print(\"Accuracy: %.2f%%\" % (accuracy * 100.0))"
   ]
  },
  {
   "cell_type": "code",
   "execution_count": 10,
   "metadata": {},
   "outputs": [],
   "source": [
    "predictions = clf.predict(test_X)\n",
    "predictions = le.inverse_transform(predictions)\n",
    "submission = pd.DataFrame({'action_type': predictions})\n",
    "submission = test_Idx.join(submission)"
   ]
  },
  {
   "cell_type": "code",
   "execution_count": 11,
   "metadata": {},
   "outputs": [
    {
     "data": {
      "text/html": [
       "<div>\n",
       "<style scoped>\n",
       "    .dataframe tbody tr th:only-of-type {\n",
       "        vertical-align: middle;\n",
       "    }\n",
       "\n",
       "    .dataframe tbody tr th {\n",
       "        vertical-align: top;\n",
       "    }\n",
       "\n",
       "    .dataframe thead th {\n",
       "        text-align: right;\n",
       "    }\n",
       "</style>\n",
       "<table border=\"1\" class=\"dataframe\">\n",
       "  <thead>\n",
       "    <tr style=\"text-align: right;\">\n",
       "      <th></th>\n",
       "      <th>shot_id</th>\n",
       "      <th>action_type</th>\n",
       "    </tr>\n",
       "  </thead>\n",
       "  <tbody>\n",
       "    <tr>\n",
       "      <th>0</th>\n",
       "      <td>25205</td>\n",
       "      <td>Jump Shot</td>\n",
       "    </tr>\n",
       "    <tr>\n",
       "      <th>1</th>\n",
       "      <td>10194</td>\n",
       "      <td>Jump Shot</td>\n",
       "    </tr>\n",
       "    <tr>\n",
       "      <th>2</th>\n",
       "      <td>4580</td>\n",
       "      <td>Layup Shot</td>\n",
       "    </tr>\n",
       "    <tr>\n",
       "      <th>3</th>\n",
       "      <td>15269</td>\n",
       "      <td>Driving Layup Shot</td>\n",
       "    </tr>\n",
       "    <tr>\n",
       "      <th>4</th>\n",
       "      <td>2859</td>\n",
       "      <td>Jump Shot</td>\n",
       "    </tr>\n",
       "    <tr>\n",
       "      <th>5</th>\n",
       "      <td>4035</td>\n",
       "      <td>Jump Shot</td>\n",
       "    </tr>\n",
       "    <tr>\n",
       "      <th>6</th>\n",
       "      <td>16548</td>\n",
       "      <td>Jump Shot</td>\n",
       "    </tr>\n",
       "    <tr>\n",
       "      <th>7</th>\n",
       "      <td>14354</td>\n",
       "      <td>Driving Layup Shot</td>\n",
       "    </tr>\n",
       "    <tr>\n",
       "      <th>8</th>\n",
       "      <td>28778</td>\n",
       "      <td>Jump Shot</td>\n",
       "    </tr>\n",
       "    <tr>\n",
       "      <th>9</th>\n",
       "      <td>1617</td>\n",
       "      <td>Jump Shot</td>\n",
       "    </tr>\n",
       "  </tbody>\n",
       "</table>\n",
       "</div>"
      ],
      "text/plain": [
       "   shot_id         action_type\n",
       "0    25205           Jump Shot\n",
       "1    10194           Jump Shot\n",
       "2     4580          Layup Shot\n",
       "3    15269  Driving Layup Shot\n",
       "4     2859           Jump Shot\n",
       "5     4035           Jump Shot\n",
       "6    16548           Jump Shot\n",
       "7    14354  Driving Layup Shot\n",
       "8    28778           Jump Shot\n",
       "9     1617           Jump Shot"
      ]
     },
     "execution_count": 11,
     "metadata": {},
     "output_type": "execute_result"
    }
   ],
   "source": [
    "submission.head(10)"
   ]
  },
  {
   "cell_type": "code",
   "execution_count": 12,
   "metadata": {},
   "outputs": [],
   "source": [
    "submission.to_csv(\"result25.csv\", index=False,header=False)"
   ]
  },
  {
   "cell_type": "code",
   "execution_count": null,
   "metadata": {},
   "outputs": [],
   "source": [
    "from sklearn.svm import SVC\n",
    "from sklearn.model_selection import train_test_split\n",
    "from sklearn.metrics import accuracy_score\n",
    "from sklearn.preprocessing import StandardScaler\n",
    "from sklearn.pipeline import Pipeline\n",
    "\n",
    "X_train, X_valid, y_train, y_valid = train_test_split(train_X,train_Y,test_size=0.20,random_state=1)\n",
    "scaler = StandardScaler()\n",
    "svc = SVC(C=0.1, gamma=0.1, kernel='rbf',random_state=1)\n",
    "clf = Pipeline([('scaler', scaler), ('svc', svc)])\n",
    "clf.fit(X_train, y_train)\n",
    "y_valid_pred = clf.predict(X_valid)\n",
    "accuracy = accuracy_score(y_valid, y_valid_pred)\n",
    "print(\"Accuracy: %.2f%%\" % (accuracy * 100.0))"
   ]
  },
  {
   "cell_type": "code",
   "execution_count": 76,
   "metadata": {},
   "outputs": [],
   "source": [
    "submission2=submission.copy()"
   ]
  },
  {
   "cell_type": "code",
   "execution_count": 77,
   "metadata": {},
   "outputs": [
    {
     "data": {
      "text/plain": [
       "action_type\n",
       "Driving Dunk Shot        1\n",
       "Driving Layup Shot      12\n",
       "Jump Shot             4794\n",
       "Layup Shot            1331\n",
       "Reverse Dunk Shot        1\n",
       "Slam Dunk Shot           1\n",
       "dtype: int64"
      ]
     },
     "execution_count": 77,
     "metadata": {},
     "output_type": "execute_result"
    }
   ],
   "source": [
    "submission2.groupby('action_type').size()"
   ]
  },
  {
   "cell_type": "code",
   "execution_count": 66,
   "metadata": {},
   "outputs": [
    {
     "name": "stdout",
     "output_type": "stream",
     "text": [
      "[1]\tvalid_0's multi_logloss: 3.23545\n",
      "Training until validation scores don't improve for 100 rounds.\n",
      "[2]\tvalid_0's multi_logloss: 2.97546\n",
      "[3]\tvalid_0's multi_logloss: 2.79369\n",
      "[4]\tvalid_0's multi_logloss: 2.64443\n",
      "[5]\tvalid_0's multi_logloss: 2.5215\n",
      "[6]\tvalid_0's multi_logloss: 2.42182\n",
      "[7]\tvalid_0's multi_logloss: 2.33175\n",
      "[8]\tvalid_0's multi_logloss: 2.25003\n",
      "[9]\tvalid_0's multi_logloss: 2.17768\n",
      "[10]\tvalid_0's multi_logloss: 2.11189\n",
      "[11]\tvalid_0's multi_logloss: 2.05417\n",
      "[12]\tvalid_0's multi_logloss: 1.99938\n",
      "[13]\tvalid_0's multi_logloss: 1.9501\n",
      "[14]\tvalid_0's multi_logloss: 1.90322\n",
      "[15]\tvalid_0's multi_logloss: 1.86034\n",
      "[16]\tvalid_0's multi_logloss: 1.82026\n",
      "[17]\tvalid_0's multi_logloss: 1.7826\n",
      "[18]\tvalid_0's multi_logloss: 1.74752\n",
      "[19]\tvalid_0's multi_logloss: 1.71486\n",
      "[20]\tvalid_0's multi_logloss: 1.68403\n",
      "Did not meet early stopping. Best iteration is:\n",
      "[20]\tvalid_0's multi_logloss: 1.68403\n",
      "Accuracy: 69.56%\n"
     ]
    }
   ],
   "source": [
    "import lightgbm as lgb\n",
    "from sklearn.model_selection import train_test_split\n",
    "from sklearn.metrics import accuracy_score\n",
    "from sklearn.preprocessing import StandardScaler\n",
    "from sklearn.pipeline import Pipeline\n",
    "\n",
    "X_train=train_X.values\n",
    "Y_train=train_Y.values\n",
    "X_test=test_X.values\n",
    "\n",
    "sc=StandardScaler()\n",
    "X_train=sc.fit_transform(X_train)\n",
    "X_test=sc.transform(X_test)\n",
    "\n",
    "X_train, X_valid, y_train, y_valid = train_test_split(train_X,train_Y,test_size=0.20,random_state=7)\n",
    "\n",
    "lgb_train = lgb.Dataset(X_train, y_train)\n",
    "lgb_valid = lgb.Dataset(X_valid, y_valid, reference=lgb_train)\n",
    "params = {  'task': 'train',\n",
    "            'application': 'multiclass',\n",
    "            'num_class': 57,\n",
    "            'categorical_feature'\n",
    "            'boosting_type': 'rf',\n",
    "            'metric': 'multi_logloss',\n",
    "            'num_leaves': 31,\n",
    "            'max_depth': 7,\n",
    "            'learning_rate': 0.05,\n",
    "            'feature_fraction': 0.9,\n",
    "            'bagging_fraction': 0.8,\n",
    "            'bagging_freq': 5,\n",
    "            'verbose': 0\n",
    "            }\n",
    "\n",
    "gbm = lgb.train(params,\n",
    "                lgb_train,\n",
    "                num_boost_round=20,\n",
    "                valid_sets=lgb_valid,\n",
    "                early_stopping_rounds=100)\n",
    "\n",
    "y_valid_pred = gbm.predict(X_valid, num_iteration=gbm.best_iteration)\n",
    "y_valid_pred_k = np.argmax(y_valid_pred, axis=1)\n",
    "accuracy = accuracy_score(y_valid, y_valid_pred_k)\n",
    "print(\"Accuracy: %.2f%%\" % (accuracy * 100.0))"
   ]
  },
  {
   "cell_type": "code",
   "execution_count": 67,
   "metadata": {},
   "outputs": [
    {
     "data": {
      "text/html": [
       "<div>\n",
       "<style scoped>\n",
       "    .dataframe tbody tr th:only-of-type {\n",
       "        vertical-align: middle;\n",
       "    }\n",
       "\n",
       "    .dataframe tbody tr th {\n",
       "        vertical-align: top;\n",
       "    }\n",
       "\n",
       "    .dataframe thead th {\n",
       "        text-align: right;\n",
       "    }\n",
       "</style>\n",
       "<table border=\"1\" class=\"dataframe\">\n",
       "  <thead>\n",
       "    <tr style=\"text-align: right;\">\n",
       "      <th></th>\n",
       "      <th>shot_id</th>\n",
       "      <th>action_type</th>\n",
       "    </tr>\n",
       "  </thead>\n",
       "  <tbody>\n",
       "    <tr>\n",
       "      <th>0</th>\n",
       "      <td>25205</td>\n",
       "      <td>Jump Shot</td>\n",
       "    </tr>\n",
       "    <tr>\n",
       "      <th>1</th>\n",
       "      <td>10194</td>\n",
       "      <td>Jump Shot</td>\n",
       "    </tr>\n",
       "    <tr>\n",
       "      <th>2</th>\n",
       "      <td>4580</td>\n",
       "      <td>Layup Shot</td>\n",
       "    </tr>\n",
       "    <tr>\n",
       "      <th>3</th>\n",
       "      <td>15269</td>\n",
       "      <td>Driving Layup Shot</td>\n",
       "    </tr>\n",
       "    <tr>\n",
       "      <th>4</th>\n",
       "      <td>2859</td>\n",
       "      <td>Jump Shot</td>\n",
       "    </tr>\n",
       "    <tr>\n",
       "      <th>5</th>\n",
       "      <td>4035</td>\n",
       "      <td>Jump Shot</td>\n",
       "    </tr>\n",
       "    <tr>\n",
       "      <th>6</th>\n",
       "      <td>16548</td>\n",
       "      <td>Jump Shot</td>\n",
       "    </tr>\n",
       "    <tr>\n",
       "      <th>7</th>\n",
       "      <td>14354</td>\n",
       "      <td>Driving Layup Shot</td>\n",
       "    </tr>\n",
       "    <tr>\n",
       "      <th>8</th>\n",
       "      <td>28778</td>\n",
       "      <td>Jump Shot</td>\n",
       "    </tr>\n",
       "    <tr>\n",
       "      <th>9</th>\n",
       "      <td>1617</td>\n",
       "      <td>Jump Shot</td>\n",
       "    </tr>\n",
       "  </tbody>\n",
       "</table>\n",
       "</div>"
      ],
      "text/plain": [
       "   shot_id         action_type\n",
       "0    25205           Jump Shot\n",
       "1    10194           Jump Shot\n",
       "2     4580          Layup Shot\n",
       "3    15269  Driving Layup Shot\n",
       "4     2859           Jump Shot\n",
       "5     4035           Jump Shot\n",
       "6    16548           Jump Shot\n",
       "7    14354  Driving Layup Shot\n",
       "8    28778           Jump Shot\n",
       "9     1617           Jump Shot"
      ]
     },
     "execution_count": 67,
     "metadata": {},
     "output_type": "execute_result"
    }
   ],
   "source": [
    "predictions = gbm.predict(test_X)\n",
    "predictions = np.argmax(predictions, axis=1)\n",
    "predictions = le.inverse_transform(predictions)\n",
    "submission = pd.DataFrame({'action_type': predictions})\n",
    "submission = test_Idx.join(submission)\n",
    "submission.head(10)"
   ]
  },
  {
   "cell_type": "code",
   "execution_count": 68,
   "metadata": {},
   "outputs": [],
   "source": [
    "submission.to_csv(\"result25.csv\", index=False,header=False)"
   ]
  },
  {
   "cell_type": "code",
   "execution_count": null,
   "metadata": {},
   "outputs": [],
   "source": []
  }
 ],
 "metadata": {
  "kernelspec": {
   "display_name": "Python 3",
   "language": "python",
   "name": "python3"
  },
  "language_info": {
   "codemirror_mode": {
    "name": "ipython",
    "version": 3
   },
   "file_extension": ".py",
   "mimetype": "text/x-python",
   "name": "python",
   "nbconvert_exporter": "python",
   "pygments_lexer": "ipython3",
   "version": "3.6.4"
  },
  "widgets": {
   "state": {},
   "version": "1.1.2"
  }
 },
 "nbformat": 4,
 "nbformat_minor": 2
}
